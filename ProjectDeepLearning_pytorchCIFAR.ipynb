{
  "nbformat": 4,
  "nbformat_minor": 0,
  "metadata": {
    "colab": {
      "name": "ProjectDeepLearning_pytorchCIFAR.ipynb",
      "version": "0.3.2",
      "provenance": [],
      "include_colab_link": true
    },
    "kernelspec": {
      "name": "python3",
      "display_name": "Python 3"
    },
    "accelerator": "GPU"
  },
  "cells": [
    {
      "cell_type": "markdown",
      "metadata": {
        "id": "view-in-github",
        "colab_type": "text"
      },
      "source": [
        "<a href=\"https://colab.research.google.com/github/Magikis/project-deep-learning/blob/master/ProjectDeepLearning_pytorchCIFAR.ipynb\" target=\"_parent\"><img src=\"https://colab.research.google.com/assets/colab-badge.svg\" alt=\"Open In Colab\"/></a>"
      ]
    },
    {
      "metadata": {
        "id": "k5jVWxHwR3LD",
        "colab_type": "code",
        "colab": {
          "base_uri": "https://localhost:8080/",
          "height": 52
        },
        "outputId": "ca11cfbc-09e9-4545-a9a5-5f25902e5041"
      },
      "cell_type": "code",
      "source": [
        "import torch\n",
        "import torchvision\n",
        "import torchvision.transforms as transforms\n",
        "%pylab inline\n",
        "\n",
        "device = torch.device(\"cuda:0\" if torch.cuda.is_available() else \"cpu\")\n",
        "print(device)"
      ],
      "execution_count": 1,
      "outputs": [
        {
          "output_type": "stream",
          "text": [
            "Populating the interactive namespace from numpy and matplotlib\n",
            "cuda:0\n"
          ],
          "name": "stdout"
        }
      ]
    },
    {
      "metadata": {
        "id": "6qzv6D2RSj_O",
        "colab_type": "code",
        "colab": {
          "base_uri": "https://localhost:8080/",
          "height": 52
        },
        "outputId": "7412f760-8e82-4c83-867a-01ec4ba746a6"
      },
      "cell_type": "code",
      "source": [
        "transform = transforms.Compose([\n",
        "    transforms.ToTensor(),\n",
        "    transforms.Normalize(*([(0.5,) * 3] * 2))\n",
        "])\n",
        "\n",
        "trainset = torchvision.datasets.CIFAR10(\n",
        "    root='./data',\n",
        "    train=True,\n",
        "    download=True,\n",
        "    transform=transform\n",
        ")\n",
        "\n",
        "trainloader = torch.utils.data.DataLoader(\n",
        "    trainset,\n",
        "    batch_size=128,\n",
        "    shuffle=True,\n",
        "    num_workers=10\n",
        ")\n",
        "\n",
        "testset = torchvision.datasets.CIFAR10(\n",
        "    root='./data',\n",
        "    train=False,\n",
        "    download=True,\n",
        "    transform=transform\n",
        ")\n",
        "\n",
        "testloader = torch.utils.data.DataLoader(\n",
        "    trainset,\n",
        "    batch_size=128,\n",
        "    shuffle=True,\n",
        "    num_workers=10\n",
        ")\n",
        "\n",
        "classes = ('plane', 'car', 'bird', 'cat',\n",
        "           'deer', 'dog', 'frog', 'horse', 'ship', 'truck')"
      ],
      "execution_count": 2,
      "outputs": [
        {
          "output_type": "stream",
          "text": [
            "Files already downloaded and verified\n",
            "Files already downloaded and verified\n"
          ],
          "name": "stdout"
        }
      ]
    },
    {
      "metadata": {
        "id": "39GR8FY_Wws2",
        "colab_type": "code",
        "colab": {
          "base_uri": "https://localhost:8080/",
          "height": 2523
        },
        "outputId": "332d6a8d-d513-440c-d20c-09c5a3b053a8"
      },
      "cell_type": "code",
      "source": [
        "import matplotlib.pyplot as plt\n",
        "import numpy as np\n",
        "\n",
        "# functions to show an image\n",
        "\n",
        "\n",
        "def imshow(img):\n",
        "    img = img / 2 + 0.5   \n",
        "    npimg = img.numpy()\n",
        "    plt.imshow(\n",
        "        np.transpose(npimg, (1, 2, 0))\n",
        "    )\n",
        "    plt.show()\n",
        "\n",
        "\n",
        "\n",
        "dataiter = iter(trainloader)\n",
        "images, labels = dataiter.next()\n",
        "print(images.shape)\n",
        "print(images[0].view(-1).shape)\n",
        "\n",
        "imshow(torchvision.utils.make_grid(images))\n",
        "\n",
        "[classes[x] for x in labels]"
      ],
      "execution_count": 3,
      "outputs": [
        {
          "output_type": "stream",
          "text": [
            "torch.Size([128, 3, 32, 32])\n",
            "torch.Size([3072])\n"
          ],
          "name": "stdout"
        },
        {
          "output_type": "display_data",
          "data": {
            "image/png": "[encoded data removed]",
            "text/plain": [
              "<Figure size 432x288 with 1 Axes>"
            ]
          },
          "metadata": {
            "tags": []
          }
        },
        {
          "output_type": "execute_result",
          "data": {
            "text/plain": [
              "['dog',\n",
              " 'cat',\n",
              " 'car',\n",
              " 'plane',\n",
              " 'dog',\n",
              " 'bird',\n",
              " 'ship',\n",
              " 'cat',\n",
              " 'horse',\n",
              " 'car',\n",
              " 'cat',\n",
              " 'cat',\n",
              " 'car',\n",
              " 'horse',\n",
              " 'plane',\n",
              " 'frog',\n",
              " 'bird',\n",
              " 'cat',\n",
              " 'horse',\n",
              " 'ship',\n",
              " 'cat',\n",
              " 'truck',\n",
              " 'frog',\n",
              " 'ship',\n",
              " 'car',\n",
              " 'dog',\n",
              " 'horse',\n",
              " 'deer',\n",
              " 'car',\n",
              " 'ship',\n",
              " 'plane',\n",
              " 'frog',\n",
              " 'plane',\n",
              " 'horse',\n",
              " 'horse',\n",
              " 'deer',\n",
              " 'cat',\n",
              " 'car',\n",
              " 'bird',\n",
              " 'truck',\n",
              " 'horse',\n",
              " 'horse',\n",
              " 'car',\n",
              " 'horse',\n",
              " 'plane',\n",
              " 'cat',\n",
              " 'car',\n",
              " 'dog',\n",
              " 'deer',\n",
              " 'ship',\n",
              " 'deer',\n",
              " 'bird',\n",
              " 'frog',\n",
              " 'frog',\n",
              " 'truck',\n",
              " 'deer',\n",
              " 'horse',\n",
              " 'dog',\n",
              " 'horse',\n",
              " 'ship',\n",
              " 'deer',\n",
              " 'plane',\n",
              " 'bird',\n",
              " 'dog',\n",
              " 'truck',\n",
              " 'plane',\n",
              " 'bird',\n",
              " 'deer',\n",
              " 'plane',\n",
              " 'dog',\n",
              " 'bird',\n",
              " 'cat',\n",
              " 'car',\n",
              " 'dog',\n",
              " 'ship',\n",
              " 'frog',\n",
              " 'plane',\n",
              " 'dog',\n",
              " 'bird',\n",
              " 'bird',\n",
              " 'car',\n",
              " 'deer',\n",
              " 'bird',\n",
              " 'plane',\n",
              " 'frog',\n",
              " 'ship',\n",
              " 'horse',\n",
              " 'dog',\n",
              " 'deer',\n",
              " 'dog',\n",
              " 'truck',\n",
              " 'frog',\n",
              " 'ship',\n",
              " 'dog',\n",
              " 'bird',\n",
              " 'car',\n",
              " 'truck',\n",
              " 'deer',\n",
              " 'bird',\n",
              " 'plane',\n",
              " 'car',\n",
              " 'horse',\n",
              " 'dog',\n",
              " 'car',\n",
              " 'dog',\n",
              " 'bird',\n",
              " 'truck',\n",
              " 'ship',\n",
              " 'horse',\n",
              " 'cat',\n",
              " 'frog',\n",
              " 'truck',\n",
              " 'car',\n",
              " 'cat',\n",
              " 'ship',\n",
              " 'deer',\n",
              " 'frog',\n",
              " 'horse',\n",
              " 'deer',\n",
              " 'dog',\n",
              " 'horse',\n",
              " 'car',\n",
              " 'cat',\n",
              " 'ship',\n",
              " 'dog',\n",
              " 'plane',\n",
              " 'car',\n",
              " 'ship']"
            ]
          },
          "metadata": {
            "tags": []
          },
          "execution_count": 3
        }
      ]
    },
    {
      "metadata": {
        "id": "2Op11PKhXq84",
        "colab_type": "code",
        "colab": {}
      },
      "cell_type": "code",
      "source": [
        "import torch.nn as nn\n",
        "import torch.nn.functional as F\n",
        "\n",
        "class BasicNet(nn.Module):\n",
        "    def __init__(self):\n",
        "        super(BasicNet, self).__init__()\n",
        "        self.fc1 = nn.Linear(3 * 32 * 32, 800)\n",
        "        self.fc2 = nn.Linear(800, 50)\n",
        "        self.fc3 = nn.Linear(50,10)\n",
        "    \n",
        "    def forward(self, x):\n",
        "#         print(x.shape)\n",
        "        x = x.view(-1, 3 * 32 * 32)\n",
        "#         print(x.shape)\n",
        "        x = torch.tanh(self.fc1(x))\n",
        "        x = torch.tanh(self.fc2(x))\n",
        "        x = self.fc3(x)\n",
        "        return x\n",
        "net = BasicNet().to(device)\n"
      ],
      "execution_count": 0,
      "outputs": []
    },
    {
      "metadata": {
        "id": "NCBuvYEycim3",
        "colab_type": "code",
        "colab": {}
      },
      "cell_type": "code",
      "source": [
        "import torch.optim as optim\n",
        "\n",
        "criterion = nn.CrossEntropyLoss()\n",
        "optimizer = optim.SGD(net.parameters(), lr=0.001, momentum=0.9)"
      ],
      "execution_count": 0,
      "outputs": []
    },
    {
      "metadata": {
        "id": "1OQPZqx_cvN2",
        "colab_type": "code",
        "colab": {
          "base_uri": "https://localhost:8080/",
          "height": 2149
        },
        "outputId": "f8c25438-2161-4c9c-ff11-9d6e8d772e6e"
      },
      "cell_type": "code",
      "source": [
        "%%time\n",
        "for epoch in range(20):\n",
        "    running_loss = 0.0\n",
        "    for i, data in enumerate(trainloader, 0):\n",
        "        \n",
        "        inputs, labels = data\n",
        "        inputs, labels = inputs.to(device), labels.to(device)\n",
        "        \n",
        "        optimizer.zero_grad()\n",
        "        \n",
        "        outputs = net(inputs)\n",
        "        loss = criterion(outputs, labels)\n",
        "        loss.backward()\n",
        "        optimizer.step()\n",
        "        \n",
        "        running_loss += loss.item()\n",
        "        if i % 60 == 59:\n",
        "            print('[%d, %5d] loss: %.3f' %\n",
        "                  (epoch + 1, i + 1, running_loss / 2000))\n",
        "            running_loss = 0.0\n",
        "print('Finished traning')"
      ],
      "execution_count": 12,
      "outputs": [
        {
          "output_type": "stream",
          "text": [
            "[1,    60] loss: 0.067\n",
            "[1,   120] loss: 0.063\n",
            "[1,   180] loss: 0.061\n",
            "[1,   240] loss: 0.060\n",
            "[1,   300] loss: 0.059\n",
            "[1,   360] loss: 0.058\n",
            "[2,    60] loss: 0.057\n",
            "[2,   120] loss: 0.056\n",
            "[2,   180] loss: 0.056\n",
            "[2,   240] loss: 0.056\n",
            "[2,   300] loss: 0.055\n",
            "[2,   360] loss: 0.056\n",
            "[3,    60] loss: 0.055\n",
            "[3,   120] loss: 0.055\n",
            "[3,   180] loss: 0.055\n",
            "[3,   240] loss: 0.054\n",
            "[3,   300] loss: 0.054\n",
            "[3,   360] loss: 0.054\n",
            "[4,    60] loss: 0.053\n",
            "[4,   120] loss: 0.053\n",
            "[4,   180] loss: 0.053\n",
            "[4,   240] loss: 0.053\n",
            "[4,   300] loss: 0.053\n",
            "[4,   360] loss: 0.053\n",
            "[5,    60] loss: 0.052\n",
            "[5,   120] loss: 0.052\n",
            "[5,   180] loss: 0.052\n",
            "[5,   240] loss: 0.052\n",
            "[5,   300] loss: 0.053\n",
            "[5,   360] loss: 0.052\n",
            "[6,    60] loss: 0.052\n",
            "[6,   120] loss: 0.051\n",
            "[6,   180] loss: 0.051\n",
            "[6,   240] loss: 0.052\n",
            "[6,   300] loss: 0.051\n",
            "[6,   360] loss: 0.051\n",
            "[7,    60] loss: 0.051\n",
            "[7,   120] loss: 0.051\n",
            "[7,   180] loss: 0.051\n",
            "[7,   240] loss: 0.051\n",
            "[7,   300] loss: 0.051\n",
            "[7,   360] loss: 0.051\n",
            "[8,    60] loss: 0.051\n",
            "[8,   120] loss: 0.050\n",
            "[8,   180] loss: 0.050\n",
            "[8,   240] loss: 0.050\n",
            "[8,   300] loss: 0.051\n",
            "[8,   360] loss: 0.050\n",
            "[9,    60] loss: 0.050\n",
            "[9,   120] loss: 0.050\n",
            "[9,   180] loss: 0.050\n",
            "[9,   240] loss: 0.050\n",
            "[9,   300] loss: 0.050\n",
            "[9,   360] loss: 0.050\n",
            "[10,    60] loss: 0.049\n",
            "[10,   120] loss: 0.050\n",
            "[10,   180] loss: 0.050\n",
            "[10,   240] loss: 0.050\n",
            "[10,   300] loss: 0.049\n",
            "[10,   360] loss: 0.049\n",
            "[11,    60] loss: 0.049\n",
            "[11,   120] loss: 0.049\n",
            "[11,   180] loss: 0.050\n",
            "[11,   240] loss: 0.049\n",
            "[11,   300] loss: 0.049\n",
            "[11,   360] loss: 0.049\n",
            "[12,    60] loss: 0.049\n",
            "[12,   120] loss: 0.049\n",
            "[12,   180] loss: 0.050\n",
            "[12,   240] loss: 0.048\n",
            "[12,   300] loss: 0.049\n",
            "[12,   360] loss: 0.049\n",
            "[13,    60] loss: 0.049\n",
            "[13,   120] loss: 0.049\n",
            "[13,   180] loss: 0.048\n",
            "[13,   240] loss: 0.049\n",
            "[13,   300] loss: 0.049\n",
            "[13,   360] loss: 0.049\n",
            "[14,    60] loss: 0.048\n",
            "[14,   120] loss: 0.048\n",
            "[14,   180] loss: 0.048\n",
            "[14,   240] loss: 0.048\n",
            "[14,   300] loss: 0.049\n",
            "[14,   360] loss: 0.048\n",
            "[15,    60] loss: 0.048\n",
            "[15,   120] loss: 0.048\n",
            "[15,   180] loss: 0.048\n",
            "[15,   240] loss: 0.047\n",
            "[15,   300] loss: 0.048\n",
            "[15,   360] loss: 0.048\n",
            "[16,    60] loss: 0.048\n",
            "[16,   120] loss: 0.047\n",
            "[16,   180] loss: 0.047\n",
            "[16,   240] loss: 0.048\n",
            "[16,   300] loss: 0.048\n",
            "[16,   360] loss: 0.048\n",
            "[17,    60] loss: 0.047\n",
            "[17,   120] loss: 0.047\n",
            "[17,   180] loss: 0.048\n",
            "[17,   240] loss: 0.047\n",
            "[17,   300] loss: 0.047\n",
            "[17,   360] loss: 0.047\n",
            "[18,    60] loss: 0.047\n",
            "[18,   120] loss: 0.047\n",
            "[18,   180] loss: 0.047\n",
            "[18,   240] loss: 0.047\n",
            "[18,   300] loss: 0.047\n",
            "[18,   360] loss: 0.047\n",
            "[19,    60] loss: 0.047\n",
            "[19,   120] loss: 0.047\n",
            "[19,   180] loss: 0.047\n",
            "[19,   240] loss: 0.047\n",
            "[19,   300] loss: 0.046\n",
            "[19,   360] loss: 0.046\n",
            "[20,    60] loss: 0.046\n",
            "[20,   120] loss: 0.046\n",
            "[20,   180] loss: 0.047\n",
            "[20,   240] loss: 0.046\n",
            "[20,   300] loss: 0.046\n",
            "[20,   360] loss: 0.047\n",
            "Finished traning\n",
            "CPU times: user 32.2 s, sys: 13.6 s, total: 45.8 s\n",
            "Wall time: 3min 36s\n"
          ],
          "name": "stdout"
        }
      ]
    },
    {
      "metadata": {
        "id": "3NIOWMjHen7H",
        "colab_type": "code",
        "colab": {
          "base_uri": "https://localhost:8080/",
          "height": 35
        },
        "outputId": "acbb66d8-64b4-406a-9332-fd85d4e9afd5"
      },
      "cell_type": "code",
      "source": [
        "correct = 0\n",
        "total = 0\n",
        "with torch.no_grad():\n",
        "    for data in testloader:\n",
        "        images, labels = data\n",
        "        images, labels = images.to(device), labels.to(device)\n",
        "        outputs = net(images)\n",
        "        _, predicted = torch.max(outputs.data, 1)\n",
        "        total += labels.size(0)\n",
        "        correct += (predicted == labels).sum().item()\n",
        "print('Accuracy of the network on the 10000 test images: %d %%' % (\n",
        "    100 * correct / total))"
      ],
      "execution_count": 8,
      "outputs": [
        {
          "output_type": "stream",
          "text": [
            "Accuracy of the network on the 10000 test images: 49 %\n"
          ],
          "name": "stdout"
        }
      ]
    },
    {
      "metadata": {
        "id": "cV0fVX_kfS8m",
        "colab_type": "code",
        "colab": {
          "base_uri": "https://localhost:8080/",
          "height": 191
        },
        "outputId": "1d69d3c7-b304-4335-bf74-63355e275d01"
      },
      "cell_type": "code",
      "source": [
        "class_correct = [0.] * len(classes)\n",
        "class_total = [0.] * len(classes)\n",
        "with torch.no_grad():\n",
        "    for data in testloader:\n",
        "        images, labels = data\n",
        "        images, labels = images.to(device), labels.to(device)\n",
        "        outputs = net(images)\n",
        "        _, predicted = torch.max(outputs, 1)\n",
        "#         c = \n",
        "        for l, p in zip(labels, predicted):\n",
        "            class_correct[l] += int(l == p)\n",
        "            class_total[l] += 1\n",
        "\n",
        "            \n",
        "for i in range(len(classes)):\n",
        "    print('Accuracy of %5s : %2d %%' % (\n",
        "        classes[i], 100 * class_correct[i] / class_total[i]))       "
      ],
      "execution_count": 9,
      "outputs": [
        {
          "output_type": "stream",
          "text": [
            "Accuracy of plane : 54 %\n",
            "Accuracy of   car : 64 %\n",
            "Accuracy of  bird : 31 %\n",
            "Accuracy of   cat : 32 %\n",
            "Accuracy of  deer : 42 %\n",
            "Accuracy of   dog : 37 %\n",
            "Accuracy of  frog : 58 %\n",
            "Accuracy of horse : 58 %\n",
            "Accuracy of  ship : 69 %\n",
            "Accuracy of truck : 50 %\n"
          ],
          "name": "stdout"
        }
      ]
    },
    {
      "metadata": {
        "id": "4fYauHvDflJn",
        "colab_type": "code",
        "colab": {}
      },
      "cell_type": "code",
      "source": [
        ""
      ],
      "execution_count": 0,
      "outputs": []
    }
  ]
}